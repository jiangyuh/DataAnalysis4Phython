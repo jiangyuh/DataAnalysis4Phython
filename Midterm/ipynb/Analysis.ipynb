{
 "cells": [
  {
   "cell_type": "code",
   "execution_count": 103,
   "metadata": {
    "collapsed": false
   },
   "outputs": [],
   "source": [
    "import glob\n",
    "import json\n",
    "import requests\n",
    "import datetime\n",
    "from collections import Counter\n",
    "import collections\n",
    "import matplotlib.pyplot as plt\n",
    "import matplotlib.mlab as mlab \n",
    "import numpy as np\n",
    "\n",
    "\n",
    "html = open('index.html', 'w')\n",
    "html.write(\"<html><head><title>This is analysis result page</title></head><body>\")\n",
    "#Q1：\n",
    "sumq1=collections.Counter()\n",
    "for file_name in glob.glob('Example/Q1/*.json'):\n",
    "     with open(file_name) as f:\n",
    "            jsn = json.load(f)\n",
    "            sumq1.update(jsn)\n",
    "sumq1=dict(sumq1)\n",
    "\n",
    "for i, key in enumerate(sumq1):#Circulate both index and value(Here is key)\n",
    "    plt.bar(i, sumq1[key], color=\"pink\", width=0.2)\n",
    "plt.xticks(np.arange(len(sumq1))+0.1, sumq1.keys())#Translation\n",
    "plt.yticks(list(sumq1.values()))\n",
    "plt.xlabel(\"Topic\")  \n",
    "plt.ylabel(\"Times\")  \n",
    "plt.title(\"View_count in Different Languages\") \n",
    "plt.grid(True)\n",
    "plt.savefig(\"barChart.png\") \n",
    "plt.cla()\n",
    "html.write(\"<div><h3>Question 1:During last month, among Python, Java, C++, C#, which tag gets the most questions?</h3><img src='barChart.png'/><br/><br/>\")    \n",
    "html.write(\"<h3>Question 2:During last month, Which type of badge do the users get who always mentioned python, show top 10?</h3><table>\")\n",
    "#Q2:\n",
    "badgeList=[]\n",
    "for file_name in glob.glob('Example/Q2/*.json'):\n",
    "    with open(file_name) as f:\n",
    "            jsn = json.load(f)\n",
    "            for txt in jsn:\n",
    "                badgeList.append(txt)\n",
    "aq2=dict(Counter(badgeList))\n",
    "badgeSort=sorted(aq2.items(), key=lambda x: x[1],reverse=True)\n",
    "i=1\n",
    "for txt in badgeSort[:10]:\n",
    "    html.write(\"<tr><td>{0}</td><td>\"+txt[0]+\"</td></tr>\".format(i))\n",
    "    i=i+1\n",
    "html.write(\"</table><br/><br/><h3>Question 3: In the last year(2015-10-01~2016-10-01), who has the most valuable badge, show top 10?</h3><table>\")\n",
    "#Q3:\n",
    "dictMerge={}\n",
    "for file_name in glob.glob('Example/Q3/*.json'):\n",
    "    with open(file_name) as f:\n",
    "            jsn = json.load(f)\n",
    "            dictMerge=dict(dictMerge,**jsn)\n",
    "dsort=sorted(dictMerge.items(), key=lambda x: x[1],reverse=True)\n",
    "i=1\n",
    "for txt in dsort[:10]:\n",
    "    html.write(\"<tr><td>{0}</td><td>\"+txt[0]+\"</td></tr>\".format(i))\n",
    "    i=i+1\n",
    "html.write(\"</table><br/><br/><h3>Question4:During last month, in the questions users frequently asked, show the top 10 ones which get the most answers</h3><table>\")\n",
    "#Q4:\n",
    "dMerge={}\n",
    "for file_name in glob.glob('Example/Q4/*.json'):\n",
    "    with open(file_name) as f:\n",
    "            jsn = json.load(f)\n",
    "            dMerge=dict(dMerge,**jsn)\n",
    "questionSort=sorted(dMerge.items(), key=lambda x: x[1],reverse=True)\n",
    "for content in questionSort[:10]:\n",
    "    html.write(\"<tr><td>{0}</td><td>\"+content[0]+\"</td></tr>\".format(i))\n",
    "\n",
    "#Q5:\n",
    "d={\"accepted\":0,\"unaccepted\":0}\n",
    "for file_name in glob.glob('Example/Q5/*.json'):\n",
    "    with open(file_name) as f:\n",
    "            jsn = json.load(f)\n",
    "            d[\"accepted\"]=d[\"accepted\"]+jsn[\"accepted\"]\n",
    "d[\"unaccepted\"]=10000-d[\"accepted\"]\n",
    "d[\"accepted\"]=d[\"accepted\"]/100\n",
    "d[\"unaccepted\"]=d[\"unaccepted\"]/100\n",
    "labels=list(d.keys())  \n",
    "X=list(d.values())     \n",
    "fig = plt.figure()  \n",
    "plt.pie(X,labels=labels,autopct='%1.2f%%') \n",
    "plt.title(\"The Porportion of Accepted and Unaccepted Questions\")     \n",
    "plt.savefig(\"PieChart.png\")  \n",
    "plt.cla()\n",
    "html.write(\"</table><br/><br/><h3>Question 5:During last month, what is the proportion between the accpeted_answers and unaccpted-ones</h3>\")\n",
    "html.write(\"<img src='PieChart.png'/><br/><br/></div></body></html>\")\n",
    "print(\"end\")"
   ]
  },
  {
   "cell_type": "code",
   "execution_count": null,
   "metadata": {
    "collapsed": true
   },
   "outputs": [],
   "source": [
    ""
   ]
  },
  {
   "cell_type": "code",
   "execution_count": null,
   "metadata": {
    "collapsed": true
   },
   "outputs": [],
   "source": [
    ""
   ]
  }
 ],
 "metadata": {
  "anaconda-cloud": {},
  "kernelspec": {
   "display_name": "Python [Root]",
   "language": "python",
   "name": "Python [Root]"
  },
  "language_info": {
   "codemirror_mode": {
    "name": "ipython",
    "version": 3.0
   },
   "file_extension": ".py",
   "mimetype": "text/x-python",
   "name": "python",
   "nbconvert_exporter": "python",
   "pygments_lexer": "ipython3",
   "version": "3.5.2"
  }
 },
 "nbformat": 4,
 "nbformat_minor": 0
}